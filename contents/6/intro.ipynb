{
  "cells": [
    {
      "cell_type": "markdown",
      "metadata": {},
      "source": [
        "# Projects with Python\n",
        "\n",
        "\n",
        "\n",
        "## Example 1: `USA.gov` Data From `Bitly`\n",
        "In 2011, URL shortening service `Bitly` partnered with the US government website\n",
        "`USA.gov` to provide a feed of anonymous data gathered from users who shorten links\n",
        "ending with `.gov` or `.mil`. The data is gotten from @McK2017.\n",
        "\n",
        "The data file can be downloaded from [here](assests/datasets/example.txt). The file is mostly in JSON. It can be converted into a DataFrame by the following code."
      ],
      "id": "2701cfe6"
    },
    {
      "cell_type": "code",
      "metadata": {},
      "source": [
        "import pandas as pd\n",
        "import numpy as np\n",
        "import json\n",
        "path = 'assests/datasets/example.txt'\n",
        "df = pd.DataFrame([json.loads(line) for line in open(path)])"
      ],
      "id": "b3e0cc3f",
      "execution_count": null,
      "outputs": []
    },
    {
      "cell_type": "markdown",
      "metadata": {},
      "source": [
        "We mainly use `tz` and `a` columns. So let us clean it."
      ],
      "id": "163fd263"
    },
    {
      "cell_type": "code",
      "metadata": {},
      "source": [
        "#| warning: false\n",
        "df['tz'] = df['tz'].fillna('Missing')\n",
        "df['tz'][df['tz'] == ''] = 'Unknown'\n",
        "df['a'] = df['a'].fillna('Missing')\n",
        "df['a'][df['a'] == ''] = 'Unknown'"
      ],
      "id": "4c9e6b5d",
      "execution_count": null,
      "outputs": []
    },
    {
      "cell_type": "markdown",
      "metadata": {},
      "source": [
        "::: {#exm-}\n",
        "\n",
        "We first want to extract the timezone infomation from it. The timezone info is in the column `tz`. Please count different values in the columns `tz`.\n",
        ":::\n",
        "\n",
        "\n",
        "::: {.callout-tip collapse=\"true\"}"
      ],
      "id": "561d8b47"
    },
    {
      "cell_type": "code",
      "metadata": {},
      "source": [
        "tzone = df['tz']\n",
        "tvc = tzone.value_counts()\n",
        "tvc"
      ],
      "id": "ed1ec9da",
      "execution_count": null,
      "outputs": []
    },
    {
      "cell_type": "markdown",
      "metadata": {},
      "source": [
        ":::\n",
        "\n",
        "\n",
        "\n",
        "::: {#exm-}\n",
        "We would like to visulize the value counts. You may just show the top ten results. \n",
        ":::\n",
        "\n",
        "::: {.callout-tip collapse=\"true\"}"
      ],
      "id": "8c093295"
    },
    {
      "cell_type": "code",
      "metadata": {},
      "source": [
        "import seaborn as sns\n",
        "sns.barplot(x=tvc[:10].values, y=tvc[:10].index)"
      ],
      "id": "03f6c195",
      "execution_count": null,
      "outputs": []
    },
    {
      "cell_type": "markdown",
      "metadata": {},
      "source": [
        ":::\n",
        "\n",
        "\n",
        "\n",
        "::: {#exm-}\n",
        "\n",
        "We then would like to extract information from the column `a`. This column is about the agent of the connection. The important info is the part before the space `' '`. Please get that part out and count values.\n",
        "\n",
        ":::\n",
        "\n",
        "\n",
        "::: {.callout-tip collapse=\"true\"}"
      ],
      "id": "727e7c03"
    },
    {
      "cell_type": "code",
      "metadata": {},
      "source": [
        "agent = df['a']\n",
        "agent = agent.str.split(' ').str[0]\n",
        "avc = agent.value_counts()\n",
        "avc.head()"
      ],
      "id": "a46a912e",
      "execution_count": null,
      "outputs": []
    },
    {
      "cell_type": "markdown",
      "metadata": {},
      "source": [
        ":::\n",
        "\n",
        "\n",
        "::: {#exm-}\n",
        "\n",
        "Now let us assume that, if `Windows` appears in column `a` the user is using `Windows` os, if not then not. Please detect os, and classify it as `Windows` and `Not Windows`.\n",
        ":::\n",
        "\n",
        "\n",
        "::: {.callout-tip collapse=\"true\"}"
      ],
      "id": "f34427a9"
    },
    {
      "cell_type": "code",
      "metadata": {},
      "source": [
        "df['os'] = np.where(df['a'].str.contains('Windows'), 'Windows', 'Not Windows')"
      ],
      "id": "7f0b0981",
      "execution_count": null,
      "outputs": []
    },
    {
      "cell_type": "markdown",
      "metadata": {},
      "source": [
        ":::\n",
        "\n",
        "Now make a bar plot about the counts based on `os` and `timezone`.\n",
        "\n",
        "::: {#exm-}\n",
        "We first group the data by `os` and `tz`.\n",
        ":::\n",
        "\n",
        "\n",
        "::: {.callout-tip collapse=\"true\"}"
      ],
      "id": "195a0999"
    },
    {
      "cell_type": "code",
      "metadata": {},
      "source": [
        "tz_os_counts = df.groupby(['tz', 'os']).size().unstack().fillna(0)\n",
        "tz_os_counts.head()"
      ],
      "id": "62ec0706",
      "execution_count": null,
      "outputs": []
    },
    {
      "cell_type": "markdown",
      "metadata": {},
      "source": [
        ":::\n",
        "\n",
        "\n",
        "::: {#exm-}\n",
        "We then turn it into a DataFrame. You may use any methods.\n",
        ":::\n",
        "\n",
        "\n",
        "::: {.callout-tip collapse=\"true\"}\n",
        "\n",
        "We use the `.stack()`, `.unstack()` tricks here."
      ],
      "id": "ac8e6f3e"
    },
    {
      "cell_type": "code",
      "metadata": {},
      "source": [
        "tovc = tz_os_counts.stack()[tz_os_counts.sum(axis=1).nlargest(10).index]\n",
        "tovc.name = 'count'\n",
        "dftovc = pd.DataFrame(tovc).reset_index()\n",
        "dftovc.head()"
      ],
      "id": "f708024b",
      "execution_count": null,
      "outputs": []
    },
    {
      "cell_type": "markdown",
      "metadata": {},
      "source": [
        ":::\n",
        "\n",
        "\n",
        "::: {#exm-}\n",
        "We may now draw the bar plot showing `tz` and `os`.\n",
        ":::\n",
        "\n",
        "\n",
        "\n",
        "::: {.callout-tip collapse=\"true\"}\n"
      ],
      "id": "ffb472f7"
    },
    {
      "cell_type": "code",
      "metadata": {},
      "source": [
        "sns.barplot(x='count', y='tz', hue='os', data=dftovc)"
      ],
      "id": "3618347f",
      "execution_count": null,
      "outputs": []
    },
    {
      "cell_type": "markdown",
      "metadata": {},
      "source": [
        ":::\n",
        "\n",
        "\n",
        "\n",
        "## Example 2: US Baby Names 1880–2010\n",
        "The United States Social Security Administration (SSA) has made available data on the frequency of baby names from 1880 through the present. Hadley Wickham, an author of several popular R packages, has often made use of this dataset in illustrating data manipulation in `R`. The dataset can be downloaded from [here](assests/datasets/babynames.zip) as a zip file. Please unzip it and put it in your working folder.\n",
        "\n",
        "\n",
        "\n",
        "::: {#exm-}\n",
        "\n",
        "In the folder there are 131 `.txt` files. The naming scheme is `yob` + the year. Each file contains 3 columns: `name`, `gender`, and `counts`. We would like to add a column `year`, and combine all files into a single DataFrame. In our example, the year is from 1880 to 2010.\n",
        ":::\n",
        "\n",
        "\n",
        "::: {.callout-tip collapse=\"true\"}"
      ],
      "id": "7c2f9695"
    },
    {
      "cell_type": "code",
      "metadata": {},
      "source": [
        "#| eval: false\n",
        "import pandas as pd\n",
        "\n",
        "path = 'assests/datasets/babynames/'\n",
        "dflist = list()\n",
        "for year in range(1880, 2011):\n",
        "    filename = path + 'yob' + str(year) + '.txt'\n",
        "    df = pd.read_csv(filename, names=['name', 'gender', 'counts'])\n",
        "    df['year'] = year\n",
        "    dflist.append(df)\n",
        "df = pd.concat(dflist, ignore_index=True)"
      ],
      "id": "3c7ef18c",
      "execution_count": null,
      "outputs": []
    },
    {
      "cell_type": "markdown",
      "metadata": {},
      "source": [
        ":::\n",
        "\n",
        "\n",
        "::: {#exm-}\n",
        "\n",
        "Plot the total births by sex and year.\n",
        ":::\n",
        "\n",
        "\n",
        "::: {.callout-tip collapse=\"true\"}"
      ],
      "id": "82604b9d"
    },
    {
      "cell_type": "code",
      "metadata": {},
      "source": [
        "#| eval: false\n",
        "import seaborn as sns\n",
        "\n",
        "sns.relplot(data=df.groupby(['gender', 'year']).sum().reset_index(),\n",
        "            x='year', y='counts', hue='gender', kind='line')"
      ],
      "id": "e0dd2a45",
      "execution_count": null,
      "outputs": []
    },
    {
      "cell_type": "code",
      "metadata": {},
      "source": [
        "#| echo: false\n",
        "import seaborn as sns\n",
        "sns.set_theme()\n",
        "dfgy = pd.read_csv('assests/datasets/gy.csv')\n",
        "sns.relplot(data=dfgy,\n",
        "            x='year', y='counts', hue='gender', kind='line')"
      ],
      "id": "920e11e6",
      "execution_count": null,
      "outputs": []
    },
    {
      "cell_type": "markdown",
      "metadata": {},
      "source": [
        ":::\n",
        "\n",
        "\n",
        "::: {#exm-}\n",
        "\n",
        "For further analysis, we would like to compute the proportions of each name relative to the total number of births per year per gender. \n",
        "\n",
        ":::\n",
        "\n",
        "\n",
        "::: {.callout-tip collapse=\"true\"}"
      ],
      "id": "72915e6a"
    },
    {
      "cell_type": "code",
      "metadata": {},
      "source": [
        "#| eval: false\n",
        "def add_prop(group):\n",
        "    group['prop'] = group.counts / group.counts.sum()\n",
        "    return group\n",
        "\n",
        "df = df.groupby(['gender', 'year']).apply(add_prop)\n",
        "df.head()"
      ],
      "id": "c9784f43",
      "execution_count": null,
      "outputs": []
    },
    {
      "cell_type": "code",
      "metadata": {},
      "source": [
        "#| echo: false\n",
        "babydf5 = pd.read_csv('assests/datasets/babydf5.csv')\n",
        "babydf5"
      ],
      "id": "40c1d015",
      "execution_count": null,
      "outputs": []
    },
    {
      "cell_type": "markdown",
      "metadata": {},
      "source": [
        ":::\n",
        "\n",
        "\n",
        "\n",
        "::: {#exm-}\n",
        "\n",
        "Now we would like to keep the first 100 names in each year, and save it as a new DataFrame `top100`.\n",
        ":::\n",
        "\n",
        "\n",
        "::: {.callout-tip collapse=\"true\"}"
      ],
      "id": "0e280fc5"
    },
    {
      "cell_type": "code",
      "metadata": {},
      "source": [
        "#| eval: false\n",
        "top100 = (\n",
        "    df.groupby(['year', 'gender'])\n",
        "    .apply(lambda x: df.loc[x['counts'].nlargest(100).index])\n",
        "    .drop(columns=['year', 'gender'])\n",
        "    .reset_index()\n",
        "    .drop(columns='level_2')\n",
        ")\n",
        "top100.head()"
      ],
      "id": "1ff6fb8f",
      "execution_count": null,
      "outputs": []
    },
    {
      "cell_type": "code",
      "metadata": {},
      "source": [
        "#| echo: false\n",
        "dftop100 = pd.read_csv('assests/datasets/baby100.csv')\n",
        "dftop100"
      ],
      "id": "fbf528a3",
      "execution_count": null,
      "outputs": []
    },
    {
      "cell_type": "markdown",
      "metadata": {},
      "source": [
        "Note that `level_2` is related to the original index after `reset_index()`. That's why we don't need it here.\n",
        ":::\n",
        "\n",
        "\n",
        "\n",
        "::: {#exm-}\n",
        "Now we would like to draw the trend of some names: `John`, `Harry` and `Mary`.\n",
        ":::\n",
        "\n",
        "\n",
        "::: {.callout-tip collapse=\"true\"}"
      ],
      "id": "af3340b4"
    },
    {
      "cell_type": "code",
      "metadata": {},
      "source": [
        "#| eval: false\n",
        "namelist = ['John', 'Harry', 'Mary']\n",
        "sns.relplot(data=top100[top100['name'].isin(namelist)],\n",
        "            x='year', y='counts', hue='name', kind='line')"
      ],
      "id": "1354e148",
      "execution_count": null,
      "outputs": []
    },
    {
      "cell_type": "code",
      "metadata": {},
      "source": [
        "#| echo: false\n",
        "babynamelist = pd.read_csv('assests/datasets/babynamelist.csv')\n",
        "sns.relplot(data=babynamelist,\n",
        "            x='year', y='counts', hue='name', kind='line')"
      ],
      "id": "373e7c94",
      "execution_count": null,
      "outputs": []
    },
    {
      "cell_type": "markdown",
      "metadata": {},
      "source": [
        ":::\n",
        "\n",
        "\n",
        "::: {#exm-}\n",
        "Please analyze the ending of names.\n",
        ":::\n",
        "\n",
        "\n",
        "::: {.callout-tip collapse=\"true\"}\n"
      ],
      "id": "43b5f249"
    },
    {
      "cell_type": "code",
      "metadata": {},
      "source": [
        "#| eval: false\n",
        "df['ending'] = df['name'].str[-1]\n",
        "endingcount = df.groupby(['gender', 'year', 'ending']).sum().reset_index()"
      ],
      "id": "45f64f59",
      "execution_count": null,
      "outputs": []
    },
    {
      "cell_type": "markdown",
      "metadata": {},
      "source": [
        ":::\n",
        "\n",
        "\n",
        "\n",
        "::: {#exm-}\n",
        "We would like to draw barplots to show the distributions in year 1910, 1960 and 2010.\n",
        "\n",
        "\n",
        ":::\n",
        "\n",
        "\n",
        "\n",
        "::: {.callout-tip collapse=\"true\"}\n"
      ],
      "id": "91c6157a"
    },
    {
      "cell_type": "code",
      "metadata": {},
      "source": [
        "#| eval: false\n",
        "certainyear = endingcount[endingcount['year'].isin([1910, 1960, 2010])]\n",
        "import matplotlib.pyplot as plt\n",
        "\n",
        "fig, axs = plt.subplots(2, 1, figsize=(10,7))\n",
        "sns.barplot(data=certainyear[endingcount['gender']=='M'],\n",
        "            x='ending', y='prop', hue='year', ax=axs[0])\n",
        "sns.barplot(data=certainyear[endingcount['gender']=='F'],\n",
        "            x='ending', y='prop', hue='year', ax=axs[1]).legend_.remove()"
      ],
      "id": "60232956",
      "execution_count": null,
      "outputs": []
    },
    {
      "cell_type": "code",
      "metadata": {},
      "source": [
        "#| echo: false\n",
        "babyyear = pd.read_csv('assests/datasets/babyyear.csv')\n",
        "import matplotlib.pyplot as plt\n",
        "\n",
        "fig, axs = plt.subplots(2, 1, figsize=(10,7))\n",
        "sns.barplot(data=babyyear[babyyear['gender']=='M'],\n",
        "            x='ending', y='prop', hue='year', ax=axs[0])\n",
        "sns.barplot(data=babyyear[babyyear['gender']=='F'],\n",
        "            x='ending', y='prop', hue='year', ax=axs[1]).legend_.remove()"
      ],
      "id": "b924c7b7",
      "execution_count": null,
      "outputs": []
    },
    {
      "cell_type": "markdown",
      "metadata": {},
      "source": [
        ":::\n",
        "\n",
        "\n",
        "::: {#exm-}\n",
        "\n",
        "\n",
        "We would also like to draw the line plot to show the trending of certain letters through years.\n",
        ":::\n",
        "\n",
        "\n",
        "::: {.callout-tip collapse=\"true\"}"
      ],
      "id": "ae19dc18"
    },
    {
      "cell_type": "code",
      "metadata": {},
      "source": [
        "#| eval: false\n",
        "sns.relplot(data=endingcount[endingcount.ending.isin(['d', 'n', 'y'])],\n",
        "            x='year', y='prop', hue='ending', kind='line')"
      ],
      "id": "e229fc75",
      "execution_count": null,
      "outputs": []
    },
    {
      "cell_type": "code",
      "metadata": {},
      "source": [
        "#| echo: false\n",
        "babyending = pd.read_csv('assests/datasets/babyending.csv')\n",
        "sns.relplot(data=babyending[babyending.ending.isin(['d', 'n', 'y'])],\n",
        "            x='year', y='prop', hue='ending', kind='line')"
      ],
      "id": "d7d9cd89",
      "execution_count": null,
      "outputs": []
    },
    {
      "cell_type": "markdown",
      "metadata": {},
      "source": [
        ":::\n",
        "\n",
        "## Exercises\n",
        "\n",
        "::: {#exr-}\n",
        "Please use the baby name dataset. We would like to consider the diversity of the names. Please compute the number of popular names in top 50% for each year each gender. Draw a line plot to show the trend and discuss the result.\n",
        ":::\n",
        "\n",
        "\n",
        "\n",
        "::: {#exr-}\n",
        "Please consider the baby name dataset. Please draw the trends of counts of names ending in `a`, `e`, `n` across years for each gender.\n",
        ":::\n"
      ],
      "id": "b0437ba3"
    }
  ],
  "metadata": {
    "kernelspec": {
      "name": "base",
      "language": "python",
      "display_name": "base"
    }
  },
  "nbformat": 4,
  "nbformat_minor": 5
}